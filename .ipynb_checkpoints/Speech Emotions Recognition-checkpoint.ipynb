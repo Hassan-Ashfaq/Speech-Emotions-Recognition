{
 "cells": [
  {
   "cell_type": "code",
   "execution_count": 1,
   "id": "threaded-gardening",
   "metadata": {
    "scrolled": true
   },
   "outputs": [],
   "source": [
    "import os\n",
    "import pickle\n",
    "import librosa\n",
    "import numpy as np\n",
    "import pandas as pd\n",
    "import seaborn as sns\n",
    "import soundfile as sf\n",
    "from sklearn.svm import SVC\n",
    "import matplotlib.pyplot as plt\n",
    "from sklearn import preprocessing\n",
    "from sklearn.metrics import accuracy_score, confusion_matrix, classification_report"
   ]
  },
  {
   "cell_type": "markdown",
   "id": "surprised-filter",
   "metadata": {},
   "source": [
    "**Features Using For Classification.**\n",
    "1. Mcc \n",
    "2. chroma_stft\n",
    "3. chroma_cqt\n",
    "4. tonnetz\n",
    "5. melspectrogram\n",
    "6. spectral_centroid\n",
    "7. spectral_contrast"
   ]
  },
  {
   "cell_type": "code",
   "execution_count": 2,
   "id": "selected-philosophy",
   "metadata": {
    "scrolled": true
   },
   "outputs": [],
   "source": [
    "def extract_features(x, path):\n",
    "    X, sample_rate = sf.read(path, dtype='float32')\n",
    "    # Mcc\n",
    "    Mcc = librosa.feature.mfcc(y=X, sr=sample_rate, n_mfcc=47)\n",
    "    Mcc = np.mean(Mcc.T, axis=0)\n",
    "    # chroma_stft\n",
    "    chroma_stft = librosa.feature.chroma_stft(y=X, sr=sample_rate,n_chroma=12, n_fft=4096)\n",
    "    chroma_stft = np.mean(chroma_stft.T, axis=0)\n",
    "    # chroma_cqt\n",
    "    chroma_cqt = librosa.feature.spectral_bandwidth(y=X, sr=sample_rate)\n",
    "    chroma_cqt = np.mean(chroma_cqt.T, axis=0)\n",
    "    # tonnetz\n",
    "    tonnetz = librosa.feature.tonnetz(y=librosa.effects.harmonic(X), sr=sample_rate, chroma=chroma_cqt)\n",
    "    # melspectrogram\n",
    "    melspectrogram = librosa.feature.melspectrogram(y=X, sr=sample_rate)\n",
    "    melspectrogram = np.mean(melspectrogram.T, axis=0)\n",
    "    # spectral_centroid\n",
    "    spectral_centroid = librosa.feature.spectral_centroid(y=X, sr=sample_rate)\n",
    "    spectral_centroid = np.mean(spectral_centroid.T, axis=0)\n",
    "    # spectral_contrast\n",
    "    spectral_contrast = librosa.feature.spectral_contrast(y=X, sr=sample_rate)\n",
    "    spectral_contrast = np.mean(spectral_contrast.T, axis=0)\n",
    "    feature = np.hstack((Mcc, chroma_stft, chroma_cqt, melspectrogram, spectral_centroid, spectral_contrast, tonnetz))\n",
    "    x.append(feature)"
   ]
  },
  {
   "cell_type": "code",
   "execution_count": 3,
   "id": "raised-horror",
   "metadata": {
    "scrolled": true
   },
   "outputs": [],
   "source": [
    "def LabelEncoder(arr, le):\n",
    "    le.fit(arr)\n",
    "    print(le.classes_)\n",
    "    Y = le.fit_transform(arr)\n",
    "    return Y"
   ]
  },
  {
   "cell_type": "code",
   "execution_count": 4,
   "id": "certified-escape",
   "metadata": {
    "scrolled": true
   },
   "outputs": [
    {
     "name": "stdout",
     "output_type": "stream",
     "text": [
      "*************************************************************************************\n",
      "Features Extract From Train/Angry/ Completed!\n",
      "****************************************************************************************************\n",
      "Features Extract From Train/Happy/ Completed!\n",
      "****************************************************************************************************\n",
      "Features Extract From Train/Neutral/ Completed!\n",
      "****************************************************************************************************\n",
      "Features Extract From Train/Sad/ Completed!\n",
      "\n",
      "X Train Shape :  (385, 202)\n",
      "Y Train Shape :  (385,)\n"
     ]
    }
   ],
   "source": [
    "X_train = []\n",
    "Y_train = []\n",
    "\n",
    "Train_Data = ['Train/Angry/', 'Train/Happy/', 'Train/Neutral/', 'Train/Sad/']\n",
    "for path in Train_Data:\n",
    "    for file in os.listdir(path):\n",
    "        print('*', end='')\n",
    "        file_path = path+file\n",
    "        extract_features(X_train, file_path)\n",
    "        Y_train.append(file_path.split('/')[1])\n",
    "    print('\\nFeatures Extract From',path,'Completed!')\n",
    "\n",
    "X_train = np.array(X_train)\n",
    "Y_train = np.array(Y_train)\n",
    "print('\\nX Train Shape : ', X_train.shape)\n",
    "print('Y Train Shape : ', Y_train.shape)"
   ]
  },
  {
   "cell_type": "code",
   "execution_count": 5,
   "id": "historical-coral",
   "metadata": {
    "scrolled": true
   },
   "outputs": [
    {
     "name": "stdout",
     "output_type": "stream",
     "text": [
      "['Angry' 'Happy' 'Neutral' 'Sad']\n"
     ]
    }
   ],
   "source": [
    "le = preprocessing.LabelEncoder()\n",
    "Y_Train = LabelEncoder(Y_train, le)"
   ]
  },
  {
   "cell_type": "code",
   "execution_count": 6,
   "id": "victorian-navigator",
   "metadata": {
    "scrolled": true
   },
   "outputs": [
    {
     "name": "stdout",
     "output_type": "stream",
     "text": [
      "***************\n",
      "Features Extract From Test/Angry/ Completed!\n",
      "***************\n",
      "Features Extract From Test/Happy/ Completed!\n",
      "***************\n",
      "Features Extract From Test/Neural/ Completed!\n",
      "***************\n",
      "Features Extract From Test/Sad/ Completed!\n",
      "\n",
      "X Test Shape :  (60, 202)\n",
      "Y Test Shape :  (60,)\n"
     ]
    }
   ],
   "source": [
    "X_test = []\n",
    "Y_test = []\n",
    "\n",
    "Test_Data = ['Test/Angry/', 'Test/Happy/', 'Test/Neural/', 'Test/Sad/']\n",
    "for path in Test_Data:\n",
    "    for file in os.listdir(path):\n",
    "        print('*', end='')\n",
    "        file_path = path+file\n",
    "        extract_features(X_test, file_path)\n",
    "        Y_test.append(file_path.split('/')[1])\n",
    "    print('\\nFeatures Extract From',path,'Completed!')\n",
    "    \n",
    "X_test = np.array(X_test)\n",
    "Y_test = np.array(Y_test)\n",
    "print('\\nX Test Shape : ', X_test.shape)\n",
    "print('Y Test Shape : ', Y_test.shape)"
   ]
  },
  {
   "cell_type": "code",
   "execution_count": 7,
   "id": "architectural-macintosh",
   "metadata": {
    "scrolled": true
   },
   "outputs": [
    {
     "name": "stdout",
     "output_type": "stream",
     "text": [
      "['Angry' 'Happy' 'Neural' 'Sad']\n"
     ]
    }
   ],
   "source": [
    "Y_Test = LabelEncoder(Y_test, le)"
   ]
  },
  {
   "cell_type": "code",
   "execution_count": 8,
   "id": "tested-trailer",
   "metadata": {
    "scrolled": true
   },
   "outputs": [
    {
     "data": {
      "text/plain": [
       "SVC(C=1, gamma=0.001, kernel='linear')"
      ]
     },
     "execution_count": 8,
     "metadata": {},
     "output_type": "execute_result"
    }
   ],
   "source": [
    "model = SVC(kernel='linear', gamma=0.001, C=1)\n",
    "model.fit(X_train, Y_Train)"
   ]
  },
  {
   "cell_type": "code",
   "execution_count": 9,
   "id": "national-remove",
   "metadata": {},
   "outputs": [],
   "source": [
    "pickle.dump(model, open('SVC_Model.sav', 'wb'))"
   ]
  },
  {
   "cell_type": "code",
   "execution_count": 10,
   "id": "organic-kuwait",
   "metadata": {},
   "outputs": [],
   "source": [
    "model_SVC = pickle.load(open('SVC_Model.sav', 'rb'))"
   ]
  },
  {
   "cell_type": "code",
   "execution_count": 11,
   "id": "latin-navigator",
   "metadata": {
    "scrolled": true
   },
   "outputs": [
    {
     "name": "stdout",
     "output_type": "stream",
     "text": [
      "X Shape :  (445, 202)\n",
      "Left Shape Before Mean :  (445, 101)\n",
      "Right Shape Before Mean :  (445, 101)\n",
      "Left Shape After Mean :  (445,)\n",
      "Right Shape After Mean :  (445,)\n",
      "Y Shape :  (445,)\n"
     ]
    }
   ],
   "source": [
    "X = np.concatenate((X_train, X_test))\n",
    "shape = X.shape[1]\n",
    "print('X Shape : ',X.shape)\n",
    "left = X[:, :int(shape/2)]\n",
    "right = X[:, int(shape/2):]\n",
    "print('Left Shape Before Mean : ',left.shape)\n",
    "print('Right Shape Before Mean : ',right.shape)\n",
    "left = np.mean(left, axis=1)\n",
    "right = np.mean(right, axis=1)\n",
    "print('Left Shape After Mean : ',left.shape)\n",
    "print('Right Shape After Mean : ',right.shape)\n",
    "\n",
    "Y = np.concatenate((Y_Train, Y_Test))\n",
    "print('Y Shape : ',Y.shape)"
   ]
  },
  {
   "cell_type": "code",
   "execution_count": 12,
   "id": "automatic-apollo",
   "metadata": {},
   "outputs": [
    {
     "data": {
      "image/png": "[encoded data removed]",
      "text/plain": [
       "<Figure size 576x576 with 1 Axes>"
      ]
     },
     "metadata": {
      "needs_background": "light"
     },
     "output_type": "display_data"
    }
   ],
   "source": [
    "data = {\n",
    "    'Left Half' : left,\n",
    "    'Right Half' : right,\n",
    "    'Lable' : le.inverse_transform(Y)\n",
    "}\n",
    "plt.figure(figsize=(8,8))\n",
    "sns.scatterplot(data=data, x='Left Half', y='Right Half', hue='Lable')\n",
    "plt.grid(True)\n",
    "plt.show()"
   ]
  },
  {
   "cell_type": "code",
   "execution_count": 13,
   "id": "hindu-compression",
   "metadata": {
    "scrolled": true
   },
   "outputs": [
    {
     "name": "stdout",
     "output_type": "stream",
     "text": [
      "Y Predict :\n",
      "[0 0 0 0 0 0 0 0 0 0 0 0 0 0 0 1 1 1 1 1 1 1 1 1 1 1 1 1 1 1 2 2 2 2 2 2 2\n",
      " 2 2 2 2 2 2 2 2 3 3 3 3 3 3 3 3 3 3 3 3 3 3 3]\n",
      "\n",
      "Y Test :\n",
      "[0 0 0 0 0 0 0 0 0 0 0 0 0 0 0 1 1 1 1 1 1 1 1 1 1 1 1 1 1 1 2 2 2 2 2 2 2\n",
      " 2 2 2 2 2 2 2 2 3 3 3 3 3 3 3 3 3 3 3 3 3 3 3]\n"
     ]
    }
   ],
   "source": [
    "Y_Predict = model_SVC.predict(X_test)\n",
    "print('Y Predict :')\n",
    "print(Y_Predict)\n",
    "print('\\nY Test :')\n",
    "print(Y_Test)"
   ]
  },
  {
   "cell_type": "code",
   "execution_count": 14,
   "id": "working-preservation",
   "metadata": {
    "scrolled": true
   },
   "outputs": [
    {
     "name": "stdout",
     "output_type": "stream",
     "text": [
      "100.0\n",
      "\n",
      "[[15  0  0  0]\n",
      " [ 0 15  0  0]\n",
      " [ 0  0 15  0]\n",
      " [ 0  0  0 15]]\n",
      "\n",
      "              precision    recall  f1-score   support\n",
      "\n",
      "           0       1.00      1.00      1.00        15\n",
      "           1       1.00      1.00      1.00        15\n",
      "           2       1.00      1.00      1.00        15\n",
      "           3       1.00      1.00      1.00        15\n",
      "\n",
      "    accuracy                           1.00        60\n",
      "   macro avg       1.00      1.00      1.00        60\n",
      "weighted avg       1.00      1.00      1.00        60\n",
      "\n"
     ]
    }
   ],
   "source": [
    "print(accuracy_score(Y_Predict, Y_Test)*100)\n",
    "print('')\n",
    "print(confusion_matrix(Y_Predict, Y_Test))\n",
    "print('')\n",
    "print(classification_report(Y_Predict, Y_Test))"
   ]
  },
  {
   "cell_type": "markdown",
   "id": "killing-probability",
   "metadata": {},
   "source": [
    "## For Test > Sad > SM25_F34_S084.wav"
   ]
  },
  {
   "cell_type": "code",
   "execution_count": 15,
   "id": "inclusive-liabilities",
   "metadata": {},
   "outputs": [
    {
     "data": {
      "text/plain": [
       "array(['Sad'], dtype='<U6')"
      ]
     },
     "execution_count": 15,
     "metadata": {},
     "output_type": "execute_result"
    }
   ],
   "source": [
    "X = []\n",
    "path = 'Test/Sad/SM25_F34_S084.wav'\n",
    "extract_features(X, path)\n",
    "y_pre = model_SVC.predict(X)\n",
    "le.inverse_transform(y_pre)"
   ]
  },
  {
   "cell_type": "code",
   "execution_count": null,
   "id": "integrated-copper",
   "metadata": {},
   "outputs": [],
   "source": []
  }
 ],
 "metadata": {
  "kernelspec": {
   "display_name": "Python 3 (ipykernel)",
   "language": "python",
   "name": "python3"
  },
  "language_info": {
   "codemirror_mode": {
    "name": "ipython",
    "version": 3
   },
   "file_extension": ".py",
   "mimetype": "text/x-python",
   "name": "python",
   "nbconvert_exporter": "python",
   "pygments_lexer": "ipython3",
   "version": "3.8.10"
  }
 },
 "nbformat": 4,
 "nbformat_minor": 5
}
